{
 "cells": [
  {
   "cell_type": "markdown",
   "metadata": {},
   "source": [
    "# EDA Car Data Set\n",
    "\n",
    "**We will explore the Car Data set and perform the exploratory data analysis on the dataset. The major topics to be covered are below:**\n",
    "\n",
    "- **Removing duplicates**\n",
    "- **Missing value treatment**\n",
    "- **Outlier Treatment**\n",
    "- **Normalization and Scaling( Numerical Variables)**\n",
    "- **Encoding Categorical variables( Dummy Variables)**\n",
    "- **Univerate Analysis**\n",
    "- **Bivariate Analysis**"
   ]
  },
  {
   "cell_type": "markdown",
   "metadata": {},
   "source": [
    "**As a first step, we will import all the necessary libraries that we think we will requiring to perform the EDA.**"
   ]
  },
  {
   "cell_type": "markdown",
   "metadata": {},
   "source": [
    "# Importing Libraries"
   ]
  },
  {
   "cell_type": "code",
   "execution_count": 1,
   "metadata": {
    "ExecuteTime": {
     "end_time": "2020-04-08T17:42:55.107577Z",
     "start_time": "2020-04-08T17:42:55.102597Z"
    }
   },
   "outputs": [],
   "source": [
    "import pandas as pd\n",
    "import numpy as np\n",
    "import matplotlib.pyplot as plt\n",
    "import seaborn as sns\n",
    "%matplotlib inline"
   ]
  },
  {
   "cell_type": "markdown",
   "metadata": {},
   "source": [
    "# Loading the data set\n",
    "\n",
    "**We will  be loading the EDA cars excel file using pandas. For this we will be using read_excel file.**"
   ]
  },
  {
   "cell_type": "code",
   "execution_count": 2,
   "metadata": {
    "ExecuteTime": {
     "end_time": "2020-04-08T17:42:58.631162Z",
     "start_time": "2020-04-08T17:42:57.530483Z"
    }
   },
   "outputs": [],
   "source": [
    "df=pd.read_excel('EDA Cars.xlsx')"
   ]
  },
  {
   "cell_type": "markdown",
   "metadata": {},
   "source": [
    "# Basic Data Exploration \n",
    "\n",
    "**In this step, we will perform the below operations to check what the data set comprises of. We will check the below things:**\n",
    "\n",
    "- **head of the dataset**\n",
    "- **shape of the dataset**\n",
    "- **info of the dataset**\n",
    "- **summary of the dataset**"
   ]
  },
  {
   "cell_type": "code",
   "execution_count": 3,
   "metadata": {
    "ExecuteTime": {
     "end_time": "2020-04-08T17:42:59.938189Z",
     "start_time": "2020-04-08T17:42:59.822520Z"
    }
   },
   "outputs": [
    {
     "data": {
      "text/html": [
       "<div>\n",
       "<style scoped>\n",
       "    .dataframe tbody tr th:only-of-type {\n",
       "        vertical-align: middle;\n",
       "    }\n",
       "\n",
       "    .dataframe tbody tr th {\n",
       "        vertical-align: top;\n",
       "    }\n",
       "\n",
       "    .dataframe thead th {\n",
       "        text-align: right;\n",
       "    }\n",
       "</style>\n",
       "<table border=\"1\" class=\"dataframe\">\n",
       "  <thead>\n",
       "    <tr style=\"text-align: right;\">\n",
       "      <th></th>\n",
       "      <th>INDEX</th>\n",
       "      <th>INCOME</th>\n",
       "      <th>MARITAL STATUS</th>\n",
       "      <th>SEX</th>\n",
       "      <th>EDUCATION</th>\n",
       "      <th>JOB</th>\n",
       "      <th>TRAVEL TIME</th>\n",
       "      <th>USE</th>\n",
       "      <th>MILES CLOCKED</th>\n",
       "      <th>CAR TYPE</th>\n",
       "      <th>CAR AGE</th>\n",
       "      <th>CITY</th>\n",
       "      <th>POSTAL CODE</th>\n",
       "    </tr>\n",
       "  </thead>\n",
       "  <tbody>\n",
       "    <tr>\n",
       "      <th>0</th>\n",
       "      <td>1</td>\n",
       "      <td>125301.24250</td>\n",
       "      <td>No</td>\n",
       "      <td>F</td>\n",
       "      <td>Bachelors</td>\n",
       "      <td>Blue Collar</td>\n",
       "      <td>45.703013</td>\n",
       "      <td>Commercial</td>\n",
       "      <td>17430.0</td>\n",
       "      <td>Sports Car</td>\n",
       "      <td>7.0</td>\n",
       "      <td>Texas</td>\n",
       "      <td>42420.0</td>\n",
       "    </tr>\n",
       "    <tr>\n",
       "      <th>1</th>\n",
       "      <td>2</td>\n",
       "      <td>50815.44531</td>\n",
       "      <td>No</td>\n",
       "      <td>M</td>\n",
       "      <td>High School</td>\n",
       "      <td>NaN</td>\n",
       "      <td>20.591628</td>\n",
       "      <td>Private</td>\n",
       "      <td>18930.0</td>\n",
       "      <td>Minivan</td>\n",
       "      <td>1.0</td>\n",
       "      <td>Texas</td>\n",
       "      <td>42420.0</td>\n",
       "    </tr>\n",
       "    <tr>\n",
       "      <th>2</th>\n",
       "      <td>3</td>\n",
       "      <td>62977.82416</td>\n",
       "      <td>NaN</td>\n",
       "      <td>F</td>\n",
       "      <td>Bachelors</td>\n",
       "      <td>Clerical</td>\n",
       "      <td>33.639949</td>\n",
       "      <td>Private</td>\n",
       "      <td>NaN</td>\n",
       "      <td>SUV</td>\n",
       "      <td>1.0</td>\n",
       "      <td>Texas</td>\n",
       "      <td>42420.0</td>\n",
       "    </tr>\n",
       "    <tr>\n",
       "      <th>3</th>\n",
       "      <td>4</td>\n",
       "      <td>77099.96624</td>\n",
       "      <td>No</td>\n",
       "      <td>F</td>\n",
       "      <td>NaN</td>\n",
       "      <td>Lawyer</td>\n",
       "      <td>15.415676</td>\n",
       "      <td>NaN</td>\n",
       "      <td>18300.0</td>\n",
       "      <td>Sports Car</td>\n",
       "      <td>11.0</td>\n",
       "      <td>Texas</td>\n",
       "      <td>42420.0</td>\n",
       "    </tr>\n",
       "    <tr>\n",
       "      <th>4</th>\n",
       "      <td>5</td>\n",
       "      <td>130794.57420</td>\n",
       "      <td>No</td>\n",
       "      <td>M</td>\n",
       "      <td>High School</td>\n",
       "      <td>NaN</td>\n",
       "      <td>NaN</td>\n",
       "      <td>Commercial</td>\n",
       "      <td>28340.0</td>\n",
       "      <td>Panel Truck</td>\n",
       "      <td>10.0</td>\n",
       "      <td>Texas</td>\n",
       "      <td>42420.0</td>\n",
       "    </tr>\n",
       "  </tbody>\n",
       "</table>\n",
       "</div>"
      ],
      "text/plain": [
       "   INDEX        INCOME MARITAL STATUS SEX    EDUCATION          JOB  \\\n",
       "0      1  125301.24250             No   F    Bachelors  Blue Collar   \n",
       "1      2   50815.44531             No   M  High School          NaN   \n",
       "2      3   62977.82416            NaN   F    Bachelors     Clerical   \n",
       "3      4   77099.96624             No   F          NaN       Lawyer   \n",
       "4      5  130794.57420             No   M  High School          NaN   \n",
       "\n",
       "   TRAVEL TIME         USE  MILES CLOCKED     CAR TYPE  CAR AGE   CITY  \\\n",
       "0    45.703013  Commercial        17430.0   Sports Car      7.0  Texas   \n",
       "1    20.591628     Private        18930.0      Minivan      1.0  Texas   \n",
       "2    33.639949     Private            NaN          SUV      1.0  Texas   \n",
       "3    15.415676         NaN        18300.0   Sports Car     11.0  Texas   \n",
       "4          NaN  Commercial        28340.0  Panel Truck     10.0  Texas   \n",
       "\n",
       "   POSTAL CODE  \n",
       "0      42420.0  \n",
       "1      42420.0  \n",
       "2      42420.0  \n",
       "3      42420.0  \n",
       "4      42420.0  "
      ]
     },
     "execution_count": 3,
     "metadata": {},
     "output_type": "execute_result"
    }
   ],
   "source": [
    "df.head()"
   ]
  },
  {
   "cell_type": "markdown",
   "metadata": {},
   "source": [
    "**head function will tell you the top records in the data set. By default python shows you only top 5 records.**"
   ]
  },
  {
   "cell_type": "code",
   "execution_count": 4,
   "metadata": {
    "ExecuteTime": {
     "end_time": "2020-04-08T17:43:01.021806Z",
     "start_time": "2020-04-08T17:43:01.017785Z"
    }
   },
   "outputs": [
    {
     "data": {
      "text/plain": [
       "(303, 13)"
      ]
     },
     "execution_count": 4,
     "metadata": {},
     "output_type": "execute_result"
    }
   ],
   "source": [
    "df.shape"
   ]
  },
  {
   "cell_type": "markdown",
   "metadata": {},
   "source": [
    "**Shape attribute tells us number of observations and variables we have in the data set. It is used to check the dimension of data. The cars data set has 303 observations and 13 variables in the data set.**"
   ]
  },
  {
   "cell_type": "code",
   "execution_count": 5,
   "metadata": {
    "ExecuteTime": {
     "end_time": "2020-04-08T17:43:02.056400Z",
     "start_time": "2020-04-08T17:43:02.044470Z"
    }
   },
   "outputs": [
    {
     "name": "stdout",
     "output_type": "stream",
     "text": [
      "<class 'pandas.core.frame.DataFrame'>\n",
      "RangeIndex: 303 entries, 0 to 302\n",
      "Data columns (total 13 columns):\n",
      " #   Column          Non-Null Count  Dtype  \n",
      "---  ------          --------------  -----  \n",
      " 0   INDEX           303 non-null    int64  \n",
      " 1   INCOME          260 non-null    float64\n",
      " 2   MARITAL STATUS  275 non-null    object \n",
      " 3   SEX             297 non-null    object \n",
      " 4   EDUCATION       259 non-null    object \n",
      " 5   JOB             257 non-null    object \n",
      " 6   TRAVEL TIME     262 non-null    float64\n",
      " 7   USE             250 non-null    object \n",
      " 8   MILES CLOCKED   278 non-null    float64\n",
      " 9   CAR TYPE        293 non-null    object \n",
      " 10  CAR AGE         283 non-null    float64\n",
      " 11  CITY            297 non-null    object \n",
      " 12  POSTAL CODE     300 non-null    float64\n",
      "dtypes: float64(5), int64(1), object(7)\n",
      "memory usage: 30.9+ KB\n"
     ]
    }
   ],
   "source": [
    "df.info()"
   ]
  },
  {
   "cell_type": "code",
   "execution_count": null,
   "metadata": {},
   "outputs": [],
   "source": [
    " # Converting Postal Code into Category "
   ]
  },
  {
   "cell_type": "code",
   "execution_count": 7,
   "metadata": {},
   "outputs": [],
   "source": [
    "df['POSTAL CODE'] = df['POSTAL CODE'].astype('object')"
   ]
  },
  {
   "cell_type": "markdown",
   "metadata": {},
   "source": [
    "**info() is used to check the Information about the data and the datatypes of each respective attributes.**"
   ]
  },
  {
   "cell_type": "code",
   "execution_count": 9,
   "metadata": {
    "ExecuteTime": {
     "end_time": "2020-04-08T17:43:03.102441Z",
     "start_time": "2020-04-08T17:43:03.078505Z"
    }
   },
   "outputs": [
    {
     "data": {
      "text/html": [
       "<div>\n",
       "<style scoped>\n",
       "    .dataframe tbody tr th:only-of-type {\n",
       "        vertical-align: middle;\n",
       "    }\n",
       "\n",
       "    .dataframe tbody tr th {\n",
       "        vertical-align: top;\n",
       "    }\n",
       "\n",
       "    .dataframe thead th {\n",
       "        text-align: right;\n",
       "    }\n",
       "</style>\n",
       "<table border=\"1\" class=\"dataframe\">\n",
       "  <thead>\n",
       "    <tr style=\"text-align: right;\">\n",
       "      <th></th>\n",
       "      <th>INDEX</th>\n",
       "      <th>INCOME</th>\n",
       "      <th>TRAVEL TIME</th>\n",
       "      <th>MILES CLOCKED</th>\n",
       "      <th>CAR AGE</th>\n",
       "    </tr>\n",
       "  </thead>\n",
       "  <tbody>\n",
       "    <tr>\n",
       "      <th>count</th>\n",
       "      <td>303.000000</td>\n",
       "      <td>260.000000</td>\n",
       "      <td>262.000000</td>\n",
       "      <td>278.000000</td>\n",
       "      <td>283.000000</td>\n",
       "    </tr>\n",
       "    <tr>\n",
       "      <th>mean</th>\n",
       "      <td>139.640264</td>\n",
       "      <td>50025.162170</td>\n",
       "      <td>34.282098</td>\n",
       "      <td>13591.978417</td>\n",
       "      <td>6.265018</td>\n",
       "    </tr>\n",
       "    <tr>\n",
       "      <th>std</th>\n",
       "      <td>85.178422</td>\n",
       "      <td>41186.807914</td>\n",
       "      <td>14.910178</td>\n",
       "      <td>7167.328655</td>\n",
       "      <td>5.111218</td>\n",
       "    </tr>\n",
       "    <tr>\n",
       "      <th>min</th>\n",
       "      <td>1.000000</td>\n",
       "      <td>0.000000</td>\n",
       "      <td>5.000000</td>\n",
       "      <td>1500.000000</td>\n",
       "      <td>1.000000</td>\n",
       "    </tr>\n",
       "    <tr>\n",
       "      <th>25%</th>\n",
       "      <td>62.500000</td>\n",
       "      <td>20452.885023</td>\n",
       "      <td>24.449874</td>\n",
       "      <td>7900.000000</td>\n",
       "      <td>1.000000</td>\n",
       "    </tr>\n",
       "    <tr>\n",
       "      <th>50%</th>\n",
       "      <td>138.000000</td>\n",
       "      <td>44571.590870</td>\n",
       "      <td>33.564757</td>\n",
       "      <td>12065.000000</td>\n",
       "      <td>6.000000</td>\n",
       "    </tr>\n",
       "    <tr>\n",
       "      <th>75%</th>\n",
       "      <td>213.500000</td>\n",
       "      <td>66485.761387</td>\n",
       "      <td>43.907339</td>\n",
       "      <td>18240.000000</td>\n",
       "      <td>10.000000</td>\n",
       "    </tr>\n",
       "    <tr>\n",
       "      <th>max</th>\n",
       "      <td>289.000000</td>\n",
       "      <td>204667.589700</td>\n",
       "      <td>83.617643</td>\n",
       "      <td>38000.000000</td>\n",
       "      <td>20.000000</td>\n",
       "    </tr>\n",
       "  </tbody>\n",
       "</table>\n",
       "</div>"
      ],
      "text/plain": [
       "            INDEX         INCOME  TRAVEL TIME  MILES CLOCKED     CAR AGE\n",
       "count  303.000000     260.000000   262.000000     278.000000  283.000000\n",
       "mean   139.640264   50025.162170    34.282098   13591.978417    6.265018\n",
       "std     85.178422   41186.807914    14.910178    7167.328655    5.111218\n",
       "min      1.000000       0.000000     5.000000    1500.000000    1.000000\n",
       "25%     62.500000   20452.885023    24.449874    7900.000000    1.000000\n",
       "50%    138.000000   44571.590870    33.564757   12065.000000    6.000000\n",
       "75%    213.500000   66485.761387    43.907339   18240.000000   10.000000\n",
       "max    289.000000  204667.589700    83.617643   38000.000000   20.000000"
      ]
     },
     "execution_count": 9,
     "metadata": {},
     "output_type": "execute_result"
    }
   ],
   "source": [
    "df.describe()"
   ]
  },
  {
   "cell_type": "markdown",
   "metadata": {},
   "source": [
    "**The describe method will help to see how data has been spread for the numerical values. We can clearly see the minimum value, mean values, different percentile values and maximum values.**"
   ]
  },
  {
   "cell_type": "markdown",
   "metadata": {},
   "source": [
    "# Check for Duplicate records"
   ]
  },
  {
   "cell_type": "code",
   "execution_count": 14,
   "metadata": {
    "ExecuteTime": {
     "end_time": "2020-04-08T17:43:04.573449Z",
     "start_time": "2020-04-08T17:43:04.551522Z"
    }
   },
   "outputs": [
    {
     "data": {
      "text/html": [
       "<div>\n",
       "<style scoped>\n",
       "    .dataframe tbody tr th:only-of-type {\n",
       "        vertical-align: middle;\n",
       "    }\n",
       "\n",
       "    .dataframe tbody tr th {\n",
       "        vertical-align: top;\n",
       "    }\n",
       "\n",
       "    .dataframe thead th {\n",
       "        text-align: right;\n",
       "    }\n",
       "</style>\n",
       "<table border=\"1\" class=\"dataframe\">\n",
       "  <thead>\n",
       "    <tr style=\"text-align: right;\">\n",
       "      <th></th>\n",
       "      <th>INDEX</th>\n",
       "      <th>INCOME</th>\n",
       "      <th>MARITAL STATUS</th>\n",
       "      <th>SEX</th>\n",
       "      <th>EDUCATION</th>\n",
       "      <th>JOB</th>\n",
       "      <th>TRAVEL TIME</th>\n",
       "      <th>USE</th>\n",
       "      <th>MILES CLOCKED</th>\n",
       "      <th>CAR TYPE</th>\n",
       "      <th>CAR AGE</th>\n",
       "      <th>CITY</th>\n",
       "      <th>POSTAL CODE</th>\n",
       "    </tr>\n",
       "  </thead>\n",
       "  <tbody>\n",
       "    <tr>\n",
       "      <th>69</th>\n",
       "      <td>29</td>\n",
       "      <td>64013.81632</td>\n",
       "      <td>Yes</td>\n",
       "      <td>M</td>\n",
       "      <td>High School</td>\n",
       "      <td>Blue Collar</td>\n",
       "      <td>32.717234</td>\n",
       "      <td>Commercial</td>\n",
       "      <td>7900.0</td>\n",
       "      <td>Pickup</td>\n",
       "      <td>5.0</td>\n",
       "      <td>Los Angeles</td>\n",
       "      <td>90049.0</td>\n",
       "    </tr>\n",
       "    <tr>\n",
       "      <th>70</th>\n",
       "      <td>29</td>\n",
       "      <td>64013.81632</td>\n",
       "      <td>Yes</td>\n",
       "      <td>M</td>\n",
       "      <td>High School</td>\n",
       "      <td>Blue Collar</td>\n",
       "      <td>32.717234</td>\n",
       "      <td>Commercial</td>\n",
       "      <td>7900.0</td>\n",
       "      <td>Pickup</td>\n",
       "      <td>5.0</td>\n",
       "      <td>Los Angeles</td>\n",
       "      <td>90049.0</td>\n",
       "    </tr>\n",
       "    <tr>\n",
       "      <th>71</th>\n",
       "      <td>29</td>\n",
       "      <td>64013.81632</td>\n",
       "      <td>Yes</td>\n",
       "      <td>M</td>\n",
       "      <td>High School</td>\n",
       "      <td>Blue Collar</td>\n",
       "      <td>32.717234</td>\n",
       "      <td>Commercial</td>\n",
       "      <td>7900.0</td>\n",
       "      <td>Pickup</td>\n",
       "      <td>5.0</td>\n",
       "      <td>Los Angeles</td>\n",
       "      <td>90049.0</td>\n",
       "    </tr>\n",
       "    <tr>\n",
       "      <th>72</th>\n",
       "      <td>29</td>\n",
       "      <td>64013.81632</td>\n",
       "      <td>Yes</td>\n",
       "      <td>M</td>\n",
       "      <td>High School</td>\n",
       "      <td>Blue Collar</td>\n",
       "      <td>32.717234</td>\n",
       "      <td>Commercial</td>\n",
       "      <td>7900.0</td>\n",
       "      <td>Pickup</td>\n",
       "      <td>5.0</td>\n",
       "      <td>Los Angeles</td>\n",
       "      <td>90049.0</td>\n",
       "    </tr>\n",
       "    <tr>\n",
       "      <th>73</th>\n",
       "      <td>29</td>\n",
       "      <td>64013.81632</td>\n",
       "      <td>Yes</td>\n",
       "      <td>M</td>\n",
       "      <td>High School</td>\n",
       "      <td>Blue Collar</td>\n",
       "      <td>32.717234</td>\n",
       "      <td>Commercial</td>\n",
       "      <td>7900.0</td>\n",
       "      <td>Pickup</td>\n",
       "      <td>5.0</td>\n",
       "      <td>Los Angeles</td>\n",
       "      <td>90049.0</td>\n",
       "    </tr>\n",
       "    <tr>\n",
       "      <th>74</th>\n",
       "      <td>29</td>\n",
       "      <td>64013.81632</td>\n",
       "      <td>Yes</td>\n",
       "      <td>M</td>\n",
       "      <td>High School</td>\n",
       "      <td>Blue Collar</td>\n",
       "      <td>32.717234</td>\n",
       "      <td>Commercial</td>\n",
       "      <td>7900.0</td>\n",
       "      <td>Pickup</td>\n",
       "      <td>5.0</td>\n",
       "      <td>Los Angeles</td>\n",
       "      <td>90049.0</td>\n",
       "    </tr>\n",
       "    <tr>\n",
       "      <th>75</th>\n",
       "      <td>29</td>\n",
       "      <td>64013.81632</td>\n",
       "      <td>Yes</td>\n",
       "      <td>M</td>\n",
       "      <td>High School</td>\n",
       "      <td>Blue Collar</td>\n",
       "      <td>32.717234</td>\n",
       "      <td>Commercial</td>\n",
       "      <td>7900.0</td>\n",
       "      <td>Pickup</td>\n",
       "      <td>5.0</td>\n",
       "      <td>Los Angeles</td>\n",
       "      <td>90049.0</td>\n",
       "    </tr>\n",
       "    <tr>\n",
       "      <th>76</th>\n",
       "      <td>29</td>\n",
       "      <td>64013.81632</td>\n",
       "      <td>Yes</td>\n",
       "      <td>M</td>\n",
       "      <td>High School</td>\n",
       "      <td>Blue Collar</td>\n",
       "      <td>32.717234</td>\n",
       "      <td>Commercial</td>\n",
       "      <td>7900.0</td>\n",
       "      <td>Pickup</td>\n",
       "      <td>5.0</td>\n",
       "      <td>Los Angeles</td>\n",
       "      <td>90049.0</td>\n",
       "    </tr>\n",
       "    <tr>\n",
       "      <th>77</th>\n",
       "      <td>29</td>\n",
       "      <td>64013.81632</td>\n",
       "      <td>Yes</td>\n",
       "      <td>M</td>\n",
       "      <td>High School</td>\n",
       "      <td>Blue Collar</td>\n",
       "      <td>32.717234</td>\n",
       "      <td>Commercial</td>\n",
       "      <td>7900.0</td>\n",
       "      <td>Pickup</td>\n",
       "      <td>5.0</td>\n",
       "      <td>Los Angeles</td>\n",
       "      <td>90049.0</td>\n",
       "    </tr>\n",
       "    <tr>\n",
       "      <th>78</th>\n",
       "      <td>29</td>\n",
       "      <td>64013.81632</td>\n",
       "      <td>Yes</td>\n",
       "      <td>M</td>\n",
       "      <td>High School</td>\n",
       "      <td>Blue Collar</td>\n",
       "      <td>32.717234</td>\n",
       "      <td>Commercial</td>\n",
       "      <td>7900.0</td>\n",
       "      <td>Pickup</td>\n",
       "      <td>5.0</td>\n",
       "      <td>Los Angeles</td>\n",
       "      <td>90049.0</td>\n",
       "    </tr>\n",
       "    <tr>\n",
       "      <th>79</th>\n",
       "      <td>29</td>\n",
       "      <td>64013.81632</td>\n",
       "      <td>Yes</td>\n",
       "      <td>M</td>\n",
       "      <td>High School</td>\n",
       "      <td>Blue Collar</td>\n",
       "      <td>32.717234</td>\n",
       "      <td>Commercial</td>\n",
       "      <td>7900.0</td>\n",
       "      <td>Pickup</td>\n",
       "      <td>5.0</td>\n",
       "      <td>Los Angeles</td>\n",
       "      <td>90049.0</td>\n",
       "    </tr>\n",
       "    <tr>\n",
       "      <th>80</th>\n",
       "      <td>29</td>\n",
       "      <td>64013.81632</td>\n",
       "      <td>Yes</td>\n",
       "      <td>M</td>\n",
       "      <td>High School</td>\n",
       "      <td>Blue Collar</td>\n",
       "      <td>32.717234</td>\n",
       "      <td>Commercial</td>\n",
       "      <td>7900.0</td>\n",
       "      <td>Pickup</td>\n",
       "      <td>5.0</td>\n",
       "      <td>Los Angeles</td>\n",
       "      <td>90049.0</td>\n",
       "    </tr>\n",
       "    <tr>\n",
       "      <th>81</th>\n",
       "      <td>29</td>\n",
       "      <td>64013.81632</td>\n",
       "      <td>Yes</td>\n",
       "      <td>M</td>\n",
       "      <td>High School</td>\n",
       "      <td>Blue Collar</td>\n",
       "      <td>32.717234</td>\n",
       "      <td>Commercial</td>\n",
       "      <td>7900.0</td>\n",
       "      <td>Pickup</td>\n",
       "      <td>5.0</td>\n",
       "      <td>Los Angeles</td>\n",
       "      <td>90049.0</td>\n",
       "    </tr>\n",
       "    <tr>\n",
       "      <th>82</th>\n",
       "      <td>29</td>\n",
       "      <td>64013.81632</td>\n",
       "      <td>Yes</td>\n",
       "      <td>M</td>\n",
       "      <td>High School</td>\n",
       "      <td>Blue Collar</td>\n",
       "      <td>32.717234</td>\n",
       "      <td>Commercial</td>\n",
       "      <td>7900.0</td>\n",
       "      <td>Pickup</td>\n",
       "      <td>5.0</td>\n",
       "      <td>Los Angeles</td>\n",
       "      <td>90049.0</td>\n",
       "    </tr>\n",
       "  </tbody>\n",
       "</table>\n",
       "</div>"
      ],
      "text/plain": [
       "    INDEX       INCOME MARITAL STATUS SEX    EDUCATION          JOB  \\\n",
       "69     29  64013.81632            Yes   M  High School  Blue Collar   \n",
       "70     29  64013.81632            Yes   M  High School  Blue Collar   \n",
       "71     29  64013.81632            Yes   M  High School  Blue Collar   \n",
       "72     29  64013.81632            Yes   M  High School  Blue Collar   \n",
       "73     29  64013.81632            Yes   M  High School  Blue Collar   \n",
       "74     29  64013.81632            Yes   M  High School  Blue Collar   \n",
       "75     29  64013.81632            Yes   M  High School  Blue Collar   \n",
       "76     29  64013.81632            Yes   M  High School  Blue Collar   \n",
       "77     29  64013.81632            Yes   M  High School  Blue Collar   \n",
       "78     29  64013.81632            Yes   M  High School  Blue Collar   \n",
       "79     29  64013.81632            Yes   M  High School  Blue Collar   \n",
       "80     29  64013.81632            Yes   M  High School  Blue Collar   \n",
       "81     29  64013.81632            Yes   M  High School  Blue Collar   \n",
       "82     29  64013.81632            Yes   M  High School  Blue Collar   \n",
       "\n",
       "    TRAVEL TIME         USE  MILES CLOCKED CAR TYPE  CAR AGE         CITY  \\\n",
       "69    32.717234  Commercial         7900.0   Pickup      5.0  Los Angeles   \n",
       "70    32.717234  Commercial         7900.0   Pickup      5.0  Los Angeles   \n",
       "71    32.717234  Commercial         7900.0   Pickup      5.0  Los Angeles   \n",
       "72    32.717234  Commercial         7900.0   Pickup      5.0  Los Angeles   \n",
       "73    32.717234  Commercial         7900.0   Pickup      5.0  Los Angeles   \n",
       "74    32.717234  Commercial         7900.0   Pickup      5.0  Los Angeles   \n",
       "75    32.717234  Commercial         7900.0   Pickup      5.0  Los Angeles   \n",
       "76    32.717234  Commercial         7900.0   Pickup      5.0  Los Angeles   \n",
       "77    32.717234  Commercial         7900.0   Pickup      5.0  Los Angeles   \n",
       "78    32.717234  Commercial         7900.0   Pickup      5.0  Los Angeles   \n",
       "79    32.717234  Commercial         7900.0   Pickup      5.0  Los Angeles   \n",
       "80    32.717234  Commercial         7900.0   Pickup      5.0  Los Angeles   \n",
       "81    32.717234  Commercial         7900.0   Pickup      5.0  Los Angeles   \n",
       "82    32.717234  Commercial         7900.0   Pickup      5.0  Los Angeles   \n",
       "\n",
       "   POSTAL CODE  \n",
       "69     90049.0  \n",
       "70     90049.0  \n",
       "71     90049.0  \n",
       "72     90049.0  \n",
       "73     90049.0  \n",
       "74     90049.0  \n",
       "75     90049.0  \n",
       "76     90049.0  \n",
       "77     90049.0  \n",
       "78     90049.0  \n",
       "79     90049.0  \n",
       "80     90049.0  \n",
       "81     90049.0  \n",
       "82     90049.0  "
      ]
     },
     "execution_count": 14,
     "metadata": {},
     "output_type": "execute_result"
    }
   ],
   "source": [
    "# Check for duplicate data\n",
    "\n",
    "#df.duplicated().sum()\n",
    "dups=df.duplicated()\n",
    "df[dups]"
   ]
  },
  {
   "cell_type": "markdown",
   "metadata": {},
   "source": [
    "**Since we have 14 duplicate records in the data, we will remove this from the data set so that we get only distinct records.**"
   ]
  },
  {
   "cell_type": "code",
   "execution_count": 16,
   "metadata": {
    "ExecuteTime": {
     "end_time": "2020-04-08T17:43:05.593735Z",
     "start_time": "2020-04-08T17:43:05.581812Z"
    }
   },
   "outputs": [],
   "source": [
    "df.drop_duplicates(inplace=True)"
   ]
  },
  {
   "cell_type": "markdown",
   "metadata": {},
   "source": [
    "**Post removing the duplicate, we will check whether the duplicates has been removed from the data set or not.**"
   ]
  },
  {
   "cell_type": "code",
   "execution_count": 17,
   "metadata": {
    "ExecuteTime": {
     "end_time": "2020-04-08T17:43:06.553875Z",
     "start_time": "2020-04-08T17:43:06.537920Z"
    }
   },
   "outputs": [
    {
     "name": "stdout",
     "output_type": "stream",
     "text": [
      "Number of duplicate rows = 0\n"
     ]
    },
    {
     "data": {
      "text/html": [
       "<div>\n",
       "<style scoped>\n",
       "    .dataframe tbody tr th:only-of-type {\n",
       "        vertical-align: middle;\n",
       "    }\n",
       "\n",
       "    .dataframe tbody tr th {\n",
       "        vertical-align: top;\n",
       "    }\n",
       "\n",
       "    .dataframe thead th {\n",
       "        text-align: right;\n",
       "    }\n",
       "</style>\n",
       "<table border=\"1\" class=\"dataframe\">\n",
       "  <thead>\n",
       "    <tr style=\"text-align: right;\">\n",
       "      <th></th>\n",
       "      <th>INDEX</th>\n",
       "      <th>INCOME</th>\n",
       "      <th>MARITAL STATUS</th>\n",
       "      <th>SEX</th>\n",
       "      <th>EDUCATION</th>\n",
       "      <th>JOB</th>\n",
       "      <th>TRAVEL TIME</th>\n",
       "      <th>USE</th>\n",
       "      <th>MILES CLOCKED</th>\n",
       "      <th>CAR TYPE</th>\n",
       "      <th>CAR AGE</th>\n",
       "      <th>CITY</th>\n",
       "      <th>POSTAL CODE</th>\n",
       "    </tr>\n",
       "  </thead>\n",
       "  <tbody>\n",
       "  </tbody>\n",
       "</table>\n",
       "</div>"
      ],
      "text/plain": [
       "Empty DataFrame\n",
       "Columns: [INDEX, INCOME, MARITAL STATUS, SEX, EDUCATION, JOB, TRAVEL TIME, USE, MILES CLOCKED, CAR TYPE, CAR AGE, CITY, POSTAL CODE]\n",
       "Index: []"
      ]
     },
     "execution_count": 17,
     "metadata": {},
     "output_type": "execute_result"
    }
   ],
   "source": [
    "# Check for duplicate data\n",
    "\n",
    "dups = df.duplicated()\n",
    "print('Number of duplicate rows = %d' % (dups.sum()))\n",
    "\n",
    "df[dups]"
   ]
  },
  {
   "cell_type": "markdown",
   "metadata": {},
   "source": [
    "**Now, we can  clearly see that there are no duplicate records in the data set. We can also quickly confirm the number of records by using the shape attribute as those 14 records should be removed from the original data. Initially it had 303 records now it should have 289**"
   ]
  },
  {
   "cell_type": "code",
   "execution_count": 18,
   "metadata": {
    "ExecuteTime": {
     "end_time": "2020-04-08T17:43:07.511247Z",
     "start_time": "2020-04-08T17:43:07.507265Z"
    }
   },
   "outputs": [
    {
     "data": {
      "text/plain": [
       "(289, 13)"
      ]
     },
     "execution_count": 18,
     "metadata": {},
     "output_type": "execute_result"
    }
   ],
   "source": [
    "df.shape"
   ]
  },
  {
   "cell_type": "markdown",
   "metadata": {},
   "source": [
    "# Outlier Treatment\n",
    "\n",
    "**To check for outliers, we will be plotting the box plots.**"
   ]
  },
  {
   "cell_type": "code",
   "execution_count": 19,
   "metadata": {
    "ExecuteTime": {
     "end_time": "2020-04-08T17:43:09.015194Z",
     "start_time": "2020-04-08T17:43:08.445798Z"
    }
   },
   "outputs": [
    {
     "data": {
      "image/png": "[encoded data removed]",
      "text/plain": [
       "<Figure size 432x288 with 1 Axes>"
      ]
     },
     "metadata": {
      "needs_background": "light"
     },
     "output_type": "display_data"
    }
   ],
   "source": [
    "df.boxplot(column=['INCOME'])\n",
    "plt.show()"
   ]
  },
  {
   "cell_type": "code",
   "execution_count": 20,
   "metadata": {
    "ExecuteTime": {
     "end_time": "2020-04-08T17:43:09.220949Z",
     "start_time": "2020-04-08T17:43:09.126393Z"
    },
    "scrolled": true
   },
   "outputs": [
    {
     "data": {
      "image/png": "[encoded data removed]",
      "text/plain": [
       "<Figure size 432x288 with 1 Axes>"
      ]
     },
     "metadata": {
      "needs_background": "light"
     },
     "output_type": "display_data"
    }
   ],
   "source": [
    "df.boxplot(column=['TRAVEL TIME'])\n",
    "plt.show()"
   ]
  },
  {
   "cell_type": "code",
   "execution_count": 21,
   "metadata": {
    "ExecuteTime": {
     "end_time": "2020-04-08T17:43:09.619602Z",
     "start_time": "2020-04-08T17:43:09.518443Z"
    }
   },
   "outputs": [
    {
     "data": {
      "image/png": "[encoded data removed]",
      "text/plain": [
       "<Figure size 432x288 with 1 Axes>"
      ]
     },
     "metadata": {
      "needs_background": "light"
     },
     "output_type": "display_data"
    }
   ],
   "source": [
    "df.boxplot(column=['CAR AGE'])\n",
    "plt.show()"
   ]
  },
  {
   "cell_type": "code",
   "execution_count": 22,
   "metadata": {
    "ExecuteTime": {
     "end_time": "2020-04-08T17:43:10.152434Z",
     "start_time": "2020-04-08T17:43:10.052701Z"
    }
   },
   "outputs": [
    {
     "data": {
      "image/png": "[encoded data removed]",
      "text/plain": [
       "<Figure size 432x288 with 1 Axes>"
      ]
     },
     "metadata": {
      "needs_background": "light"
     },
     "output_type": "display_data"
    }
   ],
   "source": [
    "df.boxplot(column=['MILES CLOCKED'])\n",
    "plt.show()"
   ]
  },
  {
   "cell_type": "markdown",
   "metadata": {},
   "source": [
    "**Looking at the box plot, it seems that the three variables INCOME, MILES CLOCKED and TRAVEL TIME have outlier present in the variables.**\n",
    "\n",
    "**These outliers value needs to be teated and there are several ways of treating them:**\n",
    "    \n",
    "- **Drop the outlier value**\n",
    "- **Replace the outlier value using the IQR**\n",
    "\n"
   ]
  },
  {
   "cell_type": "markdown",
   "metadata": {},
   "source": [
    "**Created a user definded function for finding the lower and upper range for a variable so that outlier can be treated.**"
   ]
  },
  {
   "cell_type": "code",
   "execution_count": 24,
   "metadata": {
    "ExecuteTime": {
     "end_time": "2020-04-08T17:43:12.135431Z",
     "start_time": "2020-04-08T17:43:12.127452Z"
    }
   },
   "outputs": [],
   "source": [
    "   def remove_outlier(col):\n",
    "        sorted(col)\n",
    "        Q1, Q3 = col.quantile([0.25, 0.75])\n",
    "        IQR = Q3-Q1\n",
    "        lower_range = Q1-(1.5 * IQR)\n",
    "        upper_range = Q3-(1.5 * IQR)\n",
    "        return lower_range, upper_range"
   ]
  },
  {
   "cell_type": "code",
   "execution_count": 25,
   "metadata": {
    "ExecuteTime": {
     "end_time": "2020-04-08T17:43:12.650851Z",
     "start_time": "2020-04-08T17:43:12.626880Z"
    }
   },
   "outputs": [
    {
     "data": {
      "text/plain": [
       "(289, 13)"
      ]
     },
     "execution_count": 25,
     "metadata": {},
     "output_type": "execute_result"
    }
   ],
   "source": [
    "lrincome,urincome=remove_outlier(df['INCOME'])\n",
    "df['INCOME']=np.where(df['INCOME']>urincome,urincome,df['INCOME'])\n",
    "df['INCOME']=np.where(df['INCOME']<lrincome,lrincome,df['INCOME'])\n",
    "\n",
    "\n",
    "lrtravel,urtravel=remove_outlier(df['TRAVEL TIME'])\n",
    "df['TRAVEL TIME']=np.where(df['TRAVEL TIME']>urtravel,urtravel,df['TRAVEL TIME'])\n",
    "df['TRAVEL TIME']=np.where(df['TRAVEL TIME']<lrtravel,lrtravel,df['TRAVEL TIME'])\n",
    "\n",
    "lrmiles,urmiles=remove_outlier(df['MILES CLOCKED'])\n",
    "df['MILES CLOCKED']=np.where(df['MILES CLOCKED']>urmiles,urmiles,df['MILES CLOCKED'])\n",
    "df['MILES CLOCKED']=np.where(df['MILES CLOCKED']<lrmiles,lrmiles,df['MILES CLOCKED'])\n",
    "\n",
    "df.shape\n"
   ]
  },
  {
   "cell_type": "markdown",
   "metadata": {},
   "source": [
    "##  Make Boxplots after Outlier Treatment"
   ]
  },
  {
   "cell_type": "code",
   "execution_count": null,
   "metadata": {
    "ExecuteTime": {
     "end_time": "2020-04-08T17:43:13.270315Z",
     "start_time": "2020-04-08T17:43:13.165558Z"
    }
   },
   "outputs": [],
   "source": []
  },
  {
   "cell_type": "code",
   "execution_count": 26,
   "metadata": {
    "ExecuteTime": {
     "end_time": "2020-04-08T17:43:13.775304Z",
     "start_time": "2020-04-08T17:43:13.680593Z"
    }
   },
   "outputs": [
    {
     "data": {
      "image/png": "[encoded data removed]",
      "text/plain": [
       "<Figure size 432x288 with 1 Axes>"
      ]
     },
     "metadata": {
      "needs_background": "light"
     },
     "output_type": "display_data"
    }
   ],
   "source": [
    "df.boxplot(column=['TRAVEL TIME'])\n",
    "plt.show()"
   ]
  },
  {
   "cell_type": "code",
   "execution_count": 27,
   "metadata": {
    "ExecuteTime": {
     "end_time": "2020-04-08T17:43:14.291660Z",
     "start_time": "2020-04-08T17:43:14.188935Z"
    }
   },
   "outputs": [
    {
     "data": {
      "image/png": "[encoded data removed]",
      "text/plain": [
       "<Figure size 432x288 with 1 Axes>"
      ]
     },
     "metadata": {
      "needs_background": "light"
     },
     "output_type": "display_data"
    }
   ],
   "source": [
    "df.boxplot(column=['MILES CLOCKED'])\n",
    "plt.show()"
   ]
  },
  {
   "cell_type": "markdown",
   "metadata": {},
   "source": [
    "**If you look at the box plots above,post treating the outlier there are no outliers in all these columns.**"
   ]
  },
  {
   "cell_type": "markdown",
   "metadata": {},
   "source": [
    "# Check for missing value"
   ]
  },
  {
   "cell_type": "code",
   "execution_count": 28,
   "metadata": {
    "ExecuteTime": {
     "end_time": "2020-04-08T17:43:16.269367Z",
     "start_time": "2020-04-08T17:43:16.260391Z"
    }
   },
   "outputs": [
    {
     "data": {
      "text/plain": [
       "INCOME            float64\n",
       "MARITAL STATUS     object\n",
       "SEX                object\n",
       "EDUCATION          object\n",
       "JOB                object\n",
       "TRAVEL TIME       float64\n",
       "USE                object\n",
       "MILES CLOCKED     float64\n",
       "CAR TYPE           object\n",
       "CAR AGE           float64\n",
       "CITY               object\n",
       "POSTAL CODE        object\n",
       "dtype: object"
      ]
     },
     "execution_count": 28,
     "metadata": {},
     "output_type": "execute_result"
    }
   ],
   "source": [
    "# Check for missing value in any column\n",
    "df[df.isnull().sum()[df.isnull().sum()>0].index].dtypes\n"
   ]
  },
  {
   "cell_type": "markdown",
   "metadata": {},
   "source": [
    "**We can see that we have various missing values in respective columns. There are various ways of treating your missing values in the data set. And which technique to use when is actually dependent on the type of data you are dealing with.**\n",
    "\n",
    "- **Drop the missing values : In this case we drop the missing values from those variables. In case there are very few missing values you can drop those values.**\n",
    "\n",
    "- **Impute with mean value : For numerical column, you can replace the missing values with mean values. Before replacing with mean value, it is advisable to check that the variable shouldn't have extreme values .i.e. outliers.**\n",
    "\n",
    "- **Impute with median value : For numerical column, you can also replace the missing values with median values. In case you have extreme values such as outliers it is advisable to use median approach.**\n",
    "\n",
    "- **Impute with mode value : For categorical column, you can replace the missing values with mode values i.e the frequent ones.**\n",
    "\n",
    "**In this exercise, we will replace the numerical columns with median values and for categorical columns we will replace the missing values with mode values.**"
   ]
  },
  {
   "cell_type": "code",
   "execution_count": 29,
   "metadata": {
    "ExecuteTime": {
     "end_time": "2020-04-08T17:43:17.371867Z",
     "start_time": "2020-04-08T17:43:17.351924Z"
    }
   },
   "outputs": [
    {
     "data": {
      "text/plain": [
       "INCOME            float64\n",
       "MARITAL STATUS     object\n",
       "SEX                object\n",
       "EDUCATION          object\n",
       "JOB                object\n",
       "TRAVEL TIME       float64\n",
       "USE                object\n",
       "MILES CLOCKED     float64\n",
       "CAR TYPE           object\n",
       "CAR AGE           float64\n",
       "CITY               object\n",
       "POSTAL CODE        object\n",
       "dtype: object"
      ]
     },
     "execution_count": 29,
     "metadata": {},
     "output_type": "execute_result"
    }
   ],
   "source": [
    "df[df.isnull().sum()[df.isnull().sum()>0].index].dtypes"
   ]
  },
  {
   "cell_type": "markdown",
   "metadata": {},
   "source": [
    "**Replacing NULL values in Numerical Columns using Median**"
   ]
  },
  {
   "cell_type": "code",
   "execution_count": 30,
   "metadata": {
    "ExecuteTime": {
     "end_time": "2020-04-08T17:43:18.406760Z",
     "start_time": "2020-04-08T17:43:18.397786Z"
    }
   },
   "outputs": [],
   "source": [
    "median1 = df[\"INCOME\"].median()\n",
    "median2 = df[\"TRAVEL TIME\"].median()\n",
    "median3 = df[\"MILES CLOCKED\"].median()\n",
    "median4 = df[\"CAR AGE\"].median()\n",
    "\n"
   ]
  },
  {
   "cell_type": "code",
   "execution_count": 31,
   "metadata": {},
   "outputs": [],
   "source": [
    "df['INCOME'].replace(np.nan,median1,inplace=True)\n",
    "df[\"TRAVEL TIME\"].replace(np.nan,median2,inplace=True)\n",
    "df[\"MILES CLOCKED\"].replace(np.nan,median3,inplace=True)\n",
    "df[\"CAR AGE\"].replace(np.nan,median4,inplace=True)\n"
   ]
  },
  {
   "cell_type": "markdown",
   "metadata": {},
   "source": [
    "**Replacing NULL values in Categorical Columns using Mode**"
   ]
  },
  {
   "cell_type": "code",
   "execution_count": 32,
   "metadata": {
    "ExecuteTime": {
     "end_time": "2020-04-08T17:43:19.472345Z",
     "start_time": "2020-04-08T17:43:19.458383Z"
    }
   },
   "outputs": [],
   "source": [
    "mode1=df[\"SEX\"].mode()"
   ]
  },
  {
   "cell_type": "code",
   "execution_count": 34,
   "metadata": {},
   "outputs": [],
   "source": [
    "mode1=df[\"SEX\"].mode().values[0]\n",
    "mode2=df[\"MARITAL STATUS\"].mode().values[0]\n",
    "mode3=df[\"EDUCATION\"].mode().values[0]\n",
    "mode4=df[\"JOB\"].mode().values[0]\n",
    "mode5=df[\"USE\"].mode().values[0]\n",
    "mode6=df['CITY'].mode().values[0]\n",
    "mode7=df[\"CAR TYPE\"].mode().values[0]\n",
    "mode8=df[\"POSTAL CODE\"].mode().values[0]\n",
    "\n",
    "\n",
    "df[\"SEX\"]=df[\"SEX\"].replace(np.nan,mode1)\n",
    "df[\"MARITAL STATUS\"]= df[\"MARITAL STATUS\"].replace(np.nan,mode2)\n",
    "df[\"EDUCATION\"]=df[\"EDUCATION\"].replace(np.nan,mode3)\n",
    "df[\"JOB\"]=df[\"JOB\"].replace(np.nan,mode4)\n",
    "df[\"USE\"]=df[\"USE\"].replace(np.nan,mode5)\n",
    "df[\"CAR TYPE\"]=df[\"CAR TYPE\"].replace(np.nan,mode7)\n",
    "df['CITY']=df['CITY'].replace(np.nan,mode6)\n",
    "df['POSTAL CODE']=df['POSTAL CODE'].replace(np.nan,mode6)\n"
   ]
  },
  {
   "cell_type": "code",
   "execution_count": 35,
   "metadata": {},
   "outputs": [
    {
     "data": {
      "text/plain": [
       "'F'"
      ]
     },
     "execution_count": 35,
     "metadata": {},
     "output_type": "execute_result"
    }
   ],
   "source": [
    "mode1"
   ]
  },
  {
   "cell_type": "code",
   "execution_count": 36,
   "metadata": {
    "ExecuteTime": {
     "end_time": "2020-04-08T17:43:19.990388Z",
     "start_time": "2020-04-08T17:43:19.979378Z"
    }
   },
   "outputs": [
    {
     "data": {
      "text/plain": [
       "INDEX             0\n",
       "INCOME            0\n",
       "MARITAL STATUS    0\n",
       "SEX               0\n",
       "EDUCATION         0\n",
       "JOB               0\n",
       "TRAVEL TIME       0\n",
       "USE               0\n",
       "MILES CLOCKED     0\n",
       "CAR TYPE          0\n",
       "CAR AGE           0\n",
       "CITY              0\n",
       "POSTAL CODE       0\n",
       "dtype: int64"
      ]
     },
     "execution_count": 36,
     "metadata": {},
     "output_type": "execute_result"
    }
   ],
   "source": [
    "# Check for missing value in any column\n",
    "df.isnull().sum()"
   ]
  },
  {
   "cell_type": "markdown",
   "metadata": {},
   "source": [
    "# Univariate Analysis"
   ]
  },
  {
   "cell_type": "code",
   "execution_count": null,
   "metadata": {},
   "outputs": [],
   "source": [
    "  # histogram of income\n",
    "    "
   ]
  },
  {
   "cell_type": "markdown",
   "metadata": {},
   "source": [
    "From above figure, we can say that the Income parameter is right skewed"
   ]
  },
  {
   "cell_type": "code",
   "execution_count": 37,
   "metadata": {},
   "outputs": [
    {
     "name": "stderr",
     "output_type": "stream",
     "text": [
      "C:\\Users\\rahuljain85\\Anaconda3\\lib\\site-packages\\seaborn\\_decorators.py:36: FutureWarning: Pass the following variable as a keyword arg: x. From version 0.12, the only valid positional argument will be `data`, and passing other arguments without an explicit keyword will result in an error or misinterpretation.\n",
      "  warnings.warn(\n"
     ]
    },
    {
     "data": {
      "text/plain": [
       "<AxesSubplot:xlabel='EDUCATION', ylabel='count'>"
      ]
     },
     "execution_count": 37,
     "metadata": {},
     "output_type": "execute_result"
    },
    {
     "data": {
      "image/png": "[encoded data removed]",
      "text/plain": [
       "<Figure size 432x288 with 1 Axes>"
      ]
     },
     "metadata": {
      "needs_background": "light"
     },
     "output_type": "display_data"
    }
   ],
   "source": [
    "sns.countplot(df[\"EDUCATION\"],hue=df[\"SEX\"])   #countplot for Education wrt SEX"
   ]
  },
  {
   "cell_type": "markdown",
   "metadata": {},
   "source": [
    "From the above graph we can interpret that majority of the people are High School passouts and this is true for both Males and Females"
   ]
  },
  {
   "cell_type": "markdown",
   "metadata": {},
   "source": [
    "# Bivariate Analysis"
   ]
  },
  {
   "cell_type": "code",
   "execution_count": 38,
   "metadata": {
    "ExecuteTime": {
     "end_time": "2020-04-08T17:43:24.482727Z",
     "start_time": "2020-04-08T17:43:20.994414Z"
    }
   },
   "outputs": [
    {
     "data": {
      "image/png": "[encoded data removed]",
      "text/plain": [
       "<Figure size 900x900 with 30 Axes>"
      ]
     },
     "metadata": {
      "needs_background": "light"
     },
     "output_type": "display_data"
    }
   ],
   "source": [
    "    #Pairplot of all variables\n",
    "sns.pairplot(df);"
   ]
  },
  {
   "cell_type": "markdown",
   "metadata": {},
   "source": [
    "**In the above plot scatter diagrams are plotted for all the numerical columns in the dataset. A scatter plot is a visual representation of the degree of correlation between any two columns. The pair plot function in seaborn makes it very easy to generate joint scatter plots for all the columns in the data.**"
   ]
  },
  {
   "cell_type": "code",
   "execution_count": 39,
   "metadata": {
    "ExecuteTime": {
     "end_time": "2020-04-08T17:43:24.615385Z",
     "start_time": "2020-04-08T17:43:24.604411Z"
    }
   },
   "outputs": [
    {
     "data": {
      "text/html": [
       "<div>\n",
       "<style scoped>\n",
       "    .dataframe tbody tr th:only-of-type {\n",
       "        vertical-align: middle;\n",
       "    }\n",
       "\n",
       "    .dataframe tbody tr th {\n",
       "        vertical-align: top;\n",
       "    }\n",
       "\n",
       "    .dataframe thead th {\n",
       "        text-align: right;\n",
       "    }\n",
       "</style>\n",
       "<table border=\"1\" class=\"dataframe\">\n",
       "  <thead>\n",
       "    <tr style=\"text-align: right;\">\n",
       "      <th></th>\n",
       "      <th>INDEX</th>\n",
       "      <th>INCOME</th>\n",
       "      <th>TRAVEL TIME</th>\n",
       "      <th>MILES CLOCKED</th>\n",
       "      <th>CAR AGE</th>\n",
       "    </tr>\n",
       "  </thead>\n",
       "  <tbody>\n",
       "    <tr>\n",
       "      <th>INDEX</th>\n",
       "      <td>1.000000</td>\n",
       "      <td>NaN</td>\n",
       "      <td>-0.009572</td>\n",
       "      <td>0.084067</td>\n",
       "      <td>-0.027206</td>\n",
       "    </tr>\n",
       "    <tr>\n",
       "      <th>INCOME</th>\n",
       "      <td>NaN</td>\n",
       "      <td>NaN</td>\n",
       "      <td>NaN</td>\n",
       "      <td>NaN</td>\n",
       "      <td>NaN</td>\n",
       "    </tr>\n",
       "    <tr>\n",
       "      <th>TRAVEL TIME</th>\n",
       "      <td>-0.009572</td>\n",
       "      <td>NaN</td>\n",
       "      <td>1.000000</td>\n",
       "      <td>-0.018574</td>\n",
       "      <td>0.069246</td>\n",
       "    </tr>\n",
       "    <tr>\n",
       "      <th>MILES CLOCKED</th>\n",
       "      <td>0.084067</td>\n",
       "      <td>NaN</td>\n",
       "      <td>-0.018574</td>\n",
       "      <td>1.000000</td>\n",
       "      <td>-0.068123</td>\n",
       "    </tr>\n",
       "    <tr>\n",
       "      <th>CAR AGE</th>\n",
       "      <td>-0.027206</td>\n",
       "      <td>NaN</td>\n",
       "      <td>0.069246</td>\n",
       "      <td>-0.068123</td>\n",
       "      <td>1.000000</td>\n",
       "    </tr>\n",
       "  </tbody>\n",
       "</table>\n",
       "</div>"
      ],
      "text/plain": [
       "                  INDEX  INCOME  TRAVEL TIME  MILES CLOCKED   CAR AGE\n",
       "INDEX          1.000000     NaN    -0.009572       0.084067 -0.027206\n",
       "INCOME              NaN     NaN          NaN            NaN       NaN\n",
       "TRAVEL TIME   -0.009572     NaN     1.000000      -0.018574  0.069246\n",
       "MILES CLOCKED  0.084067     NaN    -0.018574       1.000000 -0.068123\n",
       "CAR AGE       -0.027206     NaN     0.069246      -0.068123  1.000000"
      ]
     },
     "execution_count": 39,
     "metadata": {},
     "output_type": "execute_result"
    }
   ],
   "source": [
    "df.corr()"
   ]
  },
  {
   "cell_type": "markdown",
   "metadata": {},
   "source": [
    "## Correlation Heatmap"
   ]
  },
  {
   "cell_type": "code",
   "execution_count": 42,
   "metadata": {
    "ExecuteTime": {
     "end_time": "2020-04-08T17:43:29.310359Z",
     "start_time": "2020-04-08T17:43:28.805698Z"
    }
   },
   "outputs": [
    {
     "data": {
      "image/png": "[encoded data removed]",
      "text/plain": [
       "<Figure size 864x504 with 2 Axes>"
      ]
     },
     "metadata": {
      "needs_background": "light"
     },
     "output_type": "display_data"
    }
   ],
   "source": [
    "plt.figure(figsize=(12,7))\n",
    "sns.heatmap(df.corr(), annot=True);"
   ]
  },
  {
   "cell_type": "markdown",
   "metadata": {},
   "source": [
    "# Normalizing and Scaling"
   ]
  },
  {
   "cell_type": "markdown",
   "metadata": {},
   "source": [
    "**Often the variables of the data set are of different scales i.e. one variable is in millions and other in only 100. For e.g. in our data set Income is having values in thousands and age in just two digits. Since the data in these variables are of different scales, it is tough to compare these variables.**\n",
    "\n",
    "**Feature scaling (also known as data normalization) is the method used to standardize the range of features of data. Since, the range of values of data may vary widely, it becomes a necessary step in data preprocessing while using machine learning algorithms.**\n",
    "\n",
    "**In this method, we convert variables with different scales of measurements into a single scale.**\n",
    "\n",
    "**StandardScaler normalizes the data using the formula (x-mean)/standard deviation.**\n",
    "\n",
    "**We will be doing this only for the numerical variables.**"
   ]
  },
  {
   "cell_type": "code",
   "execution_count": null,
   "metadata": {
    "ExecuteTime": {
     "end_time": "2020-04-08T17:43:31.510840Z",
     "start_time": "2020-04-08T17:43:30.620936Z"
    }
   },
   "outputs": [],
   "source": [
    "#Scales the data. Essentially returns the z-scores of every attribute\n"
   ]
  },
  {
   "cell_type": "code",
   "execution_count": null,
   "metadata": {
    "ExecuteTime": {
     "end_time": "2020-04-08T17:43:31.653530Z",
     "start_time": "2020-04-08T17:43:31.637491Z"
    }
   },
   "outputs": [],
   "source": [
    "df['INCOME']= std_scale.fit_transform(df[['INCOME']])\n",
    "df['MILES CLOCKED']= std_scale.fit_transform(df[['MILES CLOCKED']])\n",
    "df['TRAVEL TIME']= std_scale.fit_transform(df[['TRAVEL TIME']])\n",
    "df['CAR AGE']= std_scale.fit_transform(df[['CAR AGE']])\n"
   ]
  },
  {
   "cell_type": "code",
   "execution_count": null,
   "metadata": {
    "ExecuteTime": {
     "end_time": "2020-04-08T17:43:31.825651Z",
     "start_time": "2020-04-08T17:43:31.769224Z"
    }
   },
   "outputs": [],
   "source": [
    "df.head()"
   ]
  },
  {
   "cell_type": "markdown",
   "metadata": {},
   "source": [
    "**If you look at the variables INCOME, TRAVEL TIME and CAR AGE, all has been normalized and scaled in one scale now.**"
   ]
  },
  {
   "cell_type": "markdown",
   "metadata": {},
   "source": [
    "# ENCODING\n",
    "\n",
    "**One-Hot-Encoding is used to create dummy variables to replace the categories in a categorical variable into features of each category and represent it using 1 or 0 based on the presence or absence of the categorical value in the record.**\n",
    "\n",
    "**This is required to do since the machine learning algorithms only works on the numerical data. That is why there is a need to convert the categorical column into numerical one.**\n",
    "\n",
    "**get_dummies is the method which creates dummy variable for each categorical variable.**\n",
    "\n",
    "**It is considered a good practice to set parameter `drop_first` as `True` whenever get_dummies is used. It reduces the chances of multicollinearity which will be covered in coming courses and the number of features are also less as compared to `drop_first=False`**"
   ]
  },
  {
   "cell_type": "code",
   "execution_count": null,
   "metadata": {
    "ExecuteTime": {
     "end_time": "2020-04-08T17:43:33.386403Z",
     "start_time": "2020-04-08T17:43:33.363466Z"
    }
   },
   "outputs": [],
   "source": [
    "dummies=pd.get_dummies(df[[\"MARITAL STATUS\", \"SEX\",\"EDUCATION\",\"JOB\",\"USE\",\"CAR TYPE\",\"CITY\"]], columns=[\"MARITAL STATUS\", \"SEX\",\"EDUCATION\",\"JOB\",\"USE\",\"CAR TYPE\",\"CITY\"], prefix=[\"married\", \"sex\",\"Education\",\"Job\",\"Use\",\"cartype\",\"city\"],drop_first=True).head()\n"
   ]
  },
  {
   "cell_type": "code",
   "execution_count": null,
   "metadata": {
    "ExecuteTime": {
     "end_time": "2020-04-08T17:43:33.906006Z",
     "start_time": "2020-04-08T17:43:33.892044Z"
    }
   },
   "outputs": [],
   "source": [
    "columns=[\"MARITAL STATUS\", \"SEX\",\"EDUCATION\",\"JOB\",\"USE\",\"CAR TYPE\",\"CITY\"]\n",
    "df = pd.concat([df, dummies], axis=1)\n",
    "\n",
    "# drop original column \"fuel-type\" from \"df\"\n",
    "df.drop(columns)"
   ]
  },
  {
   "cell_type": "code",
   "execution_count": null,
   "metadata": {
    "ExecuteTime": {
     "end_time": "2020-04-08T17:43:34.404094Z",
     "start_time": "2020-04-08T17:43:34.374215Z"
    }
   },
   "outputs": [],
   "source": [
    "df.head()"
   ]
  },
  {
   "cell_type": "markdown",
   "metadata": {},
   "source": [
    "**In the data set, each Category in all of the categorical columns have been added as columns with values 0 and 1**\n",
    "**Example: married_Yes, sex_M, Education_High School\n",
    "**If sex_M =1, then it means its a Male and sex_M=0 means its a Female**"
   ]
  }
 ],
 "metadata": {
  "kernelspec": {
   "display_name": "Python 3",
   "language": "python",
   "name": "python3"
  },
  "language_info": {
   "codemirror_mode": {
    "name": "ipython",
    "version": 3
   },
   "file_extension": ".py",
   "mimetype": "text/x-python",
   "name": "python",
   "nbconvert_exporter": "python",
   "pygments_lexer": "ipython3",
   "version": "3.8.8"
  },
  "toc": {
   "base_numbering": 1,
   "nav_menu": {},
   "number_sections": true,
   "sideBar": true,
   "skip_h1_title": false,
   "title_cell": "Table of Contents",
   "title_sidebar": "Contents",
   "toc_cell": false,
   "toc_position": {},
   "toc_section_display": true,
   "toc_window_display": false
  },
  "varInspector": {
   "cols": {
    "lenName": 16,
    "lenType": 16,
    "lenVar": 40
   },
   "kernels_config": {
    "python": {
     "delete_cmd_postfix": "",
     "delete_cmd_prefix": "del ",
     "library": "var_list.py",
     "varRefreshCmd": "print(var_dic_list())"
    },
    "r": {
     "delete_cmd_postfix": ") ",
     "delete_cmd_prefix": "rm(",
     "library": "var_list.r",
     "varRefreshCmd": "cat(var_dic_list()) "
    }
   },
   "types_to_exclude": [
    "module",
    "function",
    "builtin_function_or_method",
    "instance",
    "_Feature"
   ],
   "window_display": false
  }
 },
 "nbformat": 4,
 "nbformat_minor": 2
}
